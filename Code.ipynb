{
 "cells": [
  {
   "cell_type": "markdown",
   "id": "f9e9a56f",
   "metadata": {},
   "source": [
    "## Проект: научить модель находить фейковые новости"
   ]
  },
  {
   "cell_type": "code",
   "execution_count": null,
   "id": "2e983876",
   "metadata": {},
   "outputs": [],
   "source": [
    "import numpy as np\n",
    "import pandas as pd\n",
    "import pymorphy2\n",
    "from tqdm import tqdm\n",
    "from nltk.stem.snowball import SnowballStemmer\n",
    "from nltk.corpus import stopwords\n",
    "from pymystem3 import Mystem\n",
    "from sklearn.model_selection import train_test_split\n",
    "from sklearn.linear_model import LogisticRegressionCV\n",
    "from sklearn.metrics import f1_score, accuracy_score\n",
    "from sklearn.feature_extraction.text import TfidfVectorizer\n",
    "sw_ru = set(stopwords.words('russian'))"
   ]
  },
  {
   "cell_type": "code",
   "execution_count": 621,
   "id": "b29112a6",
   "metadata": {},
   "outputs": [
    {
     "data": {
      "text/html": [
       "<div>\n",
       "<style scoped>\n",
       "    .dataframe tbody tr th:only-of-type {\n",
       "        vertical-align: middle;\n",
       "    }\n",
       "\n",
       "    .dataframe tbody tr th {\n",
       "        vertical-align: top;\n",
       "    }\n",
       "\n",
       "    .dataframe thead th {\n",
       "        text-align: right;\n",
       "    }\n",
       "</style>\n",
       "<table border=\"1\" class=\"dataframe\">\n",
       "  <thead>\n",
       "    <tr style=\"text-align: right;\">\n",
       "      <th></th>\n",
       "      <th>title</th>\n",
       "      <th>is_fake</th>\n",
       "    </tr>\n",
       "  </thead>\n",
       "  <tbody>\n",
       "    <tr>\n",
       "      <th>0</th>\n",
       "      <td>Москвичу Владимиру Клутину пришёл счёт за вмеш...</td>\n",
       "      <td>1</td>\n",
       "    </tr>\n",
       "    <tr>\n",
       "      <th>1</th>\n",
       "      <td>Агент Кокорина назвал езду по встречке житейск...</td>\n",
       "      <td>0</td>\n",
       "    </tr>\n",
       "    <tr>\n",
       "      <th>2</th>\n",
       "      <td>Госдума рассмотрит возможность введения секрет...</td>\n",
       "      <td>1</td>\n",
       "    </tr>\n",
       "    <tr>\n",
       "      <th>3</th>\n",
       "      <td>ФАС заблокировала поставку скоростных трамваев...</td>\n",
       "      <td>0</td>\n",
       "    </tr>\n",
       "    <tr>\n",
       "      <th>4</th>\n",
       "      <td>Против Навального завели дело о недоносительст...</td>\n",
       "      <td>1</td>\n",
       "    </tr>\n",
       "  </tbody>\n",
       "</table>\n",
       "</div>"
      ],
      "text/plain": [
       "                                               title  is_fake\n",
       "0  Москвичу Владимиру Клутину пришёл счёт за вмеш...        1\n",
       "1  Агент Кокорина назвал езду по встречке житейск...        0\n",
       "2  Госдума рассмотрит возможность введения секрет...        1\n",
       "3  ФАС заблокировала поставку скоростных трамваев...        0\n",
       "4  Против Навального завели дело о недоносительст...        1"
      ]
     },
     "execution_count": 621,
     "metadata": {},
     "output_type": "execute_result"
    }
   ],
   "source": [
    "df = pd.read_csv(\"train.tsv\", sep=\"\\t\")\n",
    "df.head()"
   ]
  },
  {
   "cell_type": "markdown",
   "id": "3280aeb6",
   "metadata": {},
   "source": [
    "#### Предобработка данных: Лемматизация, удаление всех стоп слов, изменение заглавных букв на прописные"
   ]
  },
  {
   "cell_type": "code",
   "execution_count": 622,
   "id": "6ac3a596",
   "metadata": {},
   "outputs": [],
   "source": [
    "lemmatizer = pymorphy2.MorphAnalyzer()\n",
    "\n",
    "def preprocess(sent):\n",
    "    clean_sent= ' '.join([word for word in sent.split() if not word in sw_ru])\n",
    "    clean_sent = clean_sent.lower()\n",
    "    tokenized_sent = sent.split()\n",
    "    \n",
    "    return ' '.join([lemmatizer.parse(word)[0].normal_form\n",
    "                    for word in tokenized_sent])\n",
    "\n",
    "df.title = df.title.apply(preprocess)"
   ]
  },
  {
   "cell_type": "code",
   "execution_count": 623,
   "id": "e7a5f7de",
   "metadata": {},
   "outputs": [
    {
     "data": {
      "text/html": [
       "<div>\n",
       "<style scoped>\n",
       "    .dataframe tbody tr th:only-of-type {\n",
       "        vertical-align: middle;\n",
       "    }\n",
       "\n",
       "    .dataframe tbody tr th {\n",
       "        vertical-align: top;\n",
       "    }\n",
       "\n",
       "    .dataframe thead th {\n",
       "        text-align: right;\n",
       "    }\n",
       "</style>\n",
       "<table border=\"1\" class=\"dataframe\">\n",
       "  <thead>\n",
       "    <tr style=\"text-align: right;\">\n",
       "      <th></th>\n",
       "      <th>title</th>\n",
       "      <th>is_fake</th>\n",
       "    </tr>\n",
       "  </thead>\n",
       "  <tbody>\n",
       "    <tr>\n",
       "      <th>0</th>\n",
       "      <td>москвич владимир клутина прийти счёт за вмешат...</td>\n",
       "      <td>1</td>\n",
       "    </tr>\n",
       "    <tr>\n",
       "      <th>1</th>\n",
       "      <td>агент кокорин назвать езда по встречка житейск...</td>\n",
       "      <td>0</td>\n",
       "    </tr>\n",
       "    <tr>\n",
       "      <th>2</th>\n",
       "      <td>госдума рассмотреть возможность введение секре...</td>\n",
       "      <td>1</td>\n",
       "    </tr>\n",
       "    <tr>\n",
       "      <th>3</th>\n",
       "      <td>фас заблокировать поставка скоростной трамвай ...</td>\n",
       "      <td>0</td>\n",
       "    </tr>\n",
       "    <tr>\n",
       "      <th>4</th>\n",
       "      <td>против навальный завести дело о недоносительст...</td>\n",
       "      <td>1</td>\n",
       "    </tr>\n",
       "  </tbody>\n",
       "</table>\n",
       "</div>"
      ],
      "text/plain": [
       "                                               title  is_fake\n",
       "0  москвич владимир клутина прийти счёт за вмешат...        1\n",
       "1  агент кокорин назвать езда по встречка житейск...        0\n",
       "2  госдума рассмотреть возможность введение секре...        1\n",
       "3  фас заблокировать поставка скоростной трамвай ...        0\n",
       "4  против навальный завести дело о недоносительст...        1"
      ]
     },
     "execution_count": 623,
     "metadata": {},
     "output_type": "execute_result"
    }
   ],
   "source": [
    "df.head()"
   ]
  },
  {
   "cell_type": "markdown",
   "id": "358efec4-dbe8-4059-85bc-fa34cad64ab4",
   "metadata": {},
   "source": [
    "#### Используем TF-IDF чтобы векторизовать наш текст"
   ]
  },
  {
   "cell_type": "code",
   "execution_count": 624,
   "id": "5fe47dae-dfdc-47d9-a299-2102297146b4",
   "metadata": {},
   "outputs": [
    {
     "data": {
      "text/plain": [
       "(5758, 11700)"
      ]
     },
     "execution_count": 624,
     "metadata": {},
     "output_type": "execute_result"
    }
   ],
   "source": [
    "tf = TfidfVectorizer()\n",
    "vectorized = tf.fit_transform(df.title)\n",
    "vectorized.shape"
   ]
  },
  {
   "cell_type": "markdown",
   "id": "d5b5eebc",
   "metadata": {},
   "source": [
    "#### Так как после приенения tf-idf размерность обучающей выборки стала равной (5758, 11700), придется использовать Word2vec. Размерность (5758, 11700) не подходит, так как неизвестных стала больше чем самих уравнений, если рассматривать данную размерность, как размерность ЛСУ.\n",
    "#### Данные содержащиеся в файле model.txt содрежат большое количество слов, где к каждому слову сопоставлен вектор длины 300. В предложении мы просто суммируем по координатно все слова. Таким образом размерность обучающий выборки будет равен (5758, 300) "
   ]
  },
  {
   "cell_type": "code",
   "execution_count": 625,
   "id": "b19cd9af",
   "metadata": {},
   "outputs": [],
   "source": [
    "word2vec = {}\n",
    "\n",
    "with open('185/model.txt', 'r', encoding='utf-8') as f:\n",
    "    for line in f.readlines():\n",
    "        word, *vec = line.split()\n",
    "        word2vec[word] = np.array(vec, dtype=np.float32)"
   ]
  },
  {
   "cell_type": "markdown",
   "id": "bc34a0f3-df1f-491e-9e97-c73ab6e8e7a8",
   "metadata": {},
   "source": [
    "#### Чтобы взять длину вектора слова из word2vec надо узнать к какому части речи принадлежит слово"
   ]
  },
  {
   "cell_type": "code",
   "execution_count": 626,
   "id": "330b899f",
   "metadata": {},
   "outputs": [],
   "source": [
    "m = Mystem()"
   ]
  },
  {
   "cell_type": "code",
   "execution_count": 627,
   "id": "d03d62dc",
   "metadata": {},
   "outputs": [
    {
     "data": {
      "text/plain": [
       "'от_ADP'"
      ]
     },
     "execution_count": 627,
     "metadata": {},
     "output_type": "execute_result"
    }
   ],
   "source": [
    "mapping = {'A': 'ADJ',\n",
    " 'ADV': 'ADV',\n",
    " 'ADVPRO': 'ADV',\n",
    " 'ANUM': 'ADJ',\n",
    " 'APRO': 'DET',\n",
    " 'COM': 'ADJ',\n",
    " 'CONJ': 'SCONJ',\n",
    " 'INTJ': 'INTJ',\n",
    " 'NONLEX': 'X',\n",
    " 'NUM': 'NUM',\n",
    " 'PART': 'PART',\n",
    " 'PR': 'ADP',\n",
    " 'S': 'NOUN',\n",
    " 'SPRO': 'PRON',\n",
    " 'UNKN': 'X',\n",
    " 'V': 'VERB'}\n",
    "\n",
    "def tag(word='пожар'):\n",
    "    processed = m.analyze(word)[0]\n",
    "    lemma = processed[\"analysis\"][0][\"lex\"].lower().strip()\n",
    "    pos = processed[\"analysis\"][0][\"gr\"].split(',')[0]\n",
    "    pos = pos.split('=')[0].strip()\n",
    "    tagged = lemma+'_'+mapping[pos]\n",
    "    return tagged\n",
    "\n",
    "tag('от')"
   ]
  },
  {
   "cell_type": "markdown",
   "id": "22b56218-cbf2-4118-a18e-2cb809d0ec99",
   "metadata": {},
   "source": [
    "#### Проверим работу функции tag()"
   ]
  },
  {
   "cell_type": "code",
   "execution_count": 628,
   "id": "7ce465b1",
   "metadata": {},
   "outputs": [
    {
     "name": "stdout",
     "output_type": "stream",
     "text": [
      "москвич_NOUN\n",
      "владимир_NOUN\n",
      "клутина_NOUN\n",
      "приходить_VERB\n",
      "счет_NOUN\n",
      "за_ADP\n",
      "вмешательство_NOUN\n",
      "в_NOUN\n",
      "американский_ADJ\n",
      "выборы_NOUN\n"
     ]
    }
   ],
   "source": [
    "for word in df.head().title[0].split():\n",
    "    print(tag(word))"
   ]
  },
  {
   "cell_type": "code",
   "execution_count": 629,
   "id": "f12e1790",
   "metadata": {},
   "outputs": [],
   "source": [
    "texts = df.title.tolist()"
   ]
  },
  {
   "cell_type": "markdown",
   "id": "bbf1d407",
   "metadata": {},
   "source": [
    "#### К тому же, надо убрать все пунктуации, которые содержатся в словах"
   ]
  },
  {
   "cell_type": "code",
   "execution_count": 630,
   "id": "113b692c",
   "metadata": {},
   "outputs": [],
   "source": [
    "punct = '«*-#`_—:%,”.\\u200e–/!»(&°“?)+$'"
   ]
  },
  {
   "cell_type": "code",
   "execution_count": 631,
   "id": "e90acd71",
   "metadata": {},
   "outputs": [],
   "source": [
    "line = 0\n",
    "for line in range(len(texts)):\n",
    "    for i in punct:\n",
    "        if i in texts[line]:   \n",
    "            texts[line] = texts[line].replace(i, \"\")\n"
   ]
  },
  {
   "cell_type": "markdown",
   "id": "12ec1d21",
   "metadata": {},
   "source": [
    "#### Векторизуем все слова и предложения"
   ]
  },
  {
   "cell_type": "code",
   "execution_count": 632,
   "id": "6abdf6a8",
   "metadata": {},
   "outputs": [
    {
     "name": "stderr",
     "output_type": "stream",
     "text": [
      "100%|██████████████████████████████████████████████████████████████████████████████████████████████████| 5758/5758 [00:06<00:00, 939.40it/s]\n"
     ]
    }
   ],
   "source": [
    "vecs = []\n",
    "errors = []\n",
    "for line in tqdm(texts):\n",
    "    vec = 0\n",
    "    for word in line.split():\n",
    "        try:\n",
    "            word_tagged = tag(word)\n",
    "        except:\n",
    "            continue\n",
    "        if word_tagged in word2vec:\n",
    "            vec += word2vec[word_tagged]\n",
    "    vecs.append(vec)"
   ]
  },
  {
   "cell_type": "code",
   "execution_count": 633,
   "id": "6bc4693c",
   "metadata": {},
   "outputs": [
    {
     "data": {
      "text/plain": [
       "(5758, (5758,))"
      ]
     },
     "execution_count": 633,
     "metadata": {},
     "output_type": "execute_result"
    }
   ],
   "source": [
    "# Посмотрим длину векторов\n",
    "len(vecs), df.is_fake.shape"
   ]
  },
  {
   "cell_type": "code",
   "execution_count": 634,
   "id": "09f722f6",
   "metadata": {
    "scrolled": true
   },
   "outputs": [
    {
     "data": {
      "text/plain": [
       "0       1\n",
       "1       0\n",
       "2       1\n",
       "3       0\n",
       "4       1\n",
       "       ..\n",
       "5753    0\n",
       "5754    0\n",
       "5755    1\n",
       "5756    0\n",
       "5757    0\n",
       "Name: is_fake, Length: 5758, dtype: int64"
      ]
     },
     "execution_count": 634,
     "metadata": {},
     "output_type": "execute_result"
    }
   ],
   "source": [
    "y = df.is_fake\n",
    "y"
   ]
  },
  {
   "cell_type": "code",
   "execution_count": 638,
   "id": "46ebcc4a",
   "metadata": {},
   "outputs": [],
   "source": [
    "X = pd.DataFrame(np.stack(vecs.tolist()))"
   ]
  },
  {
   "cell_type": "code",
   "execution_count": 639,
   "id": "69d3d785-dcfd-423b-b43b-f1257e3c33b2",
   "metadata": {},
   "outputs": [
    {
     "data": {
      "text/html": [
       "<div>\n",
       "<style scoped>\n",
       "    .dataframe tbody tr th:only-of-type {\n",
       "        vertical-align: middle;\n",
       "    }\n",
       "\n",
       "    .dataframe tbody tr th {\n",
       "        vertical-align: top;\n",
       "    }\n",
       "\n",
       "    .dataframe thead th {\n",
       "        text-align: right;\n",
       "    }\n",
       "</style>\n",
       "<table border=\"1\" class=\"dataframe\">\n",
       "  <thead>\n",
       "    <tr style=\"text-align: right;\">\n",
       "      <th></th>\n",
       "      <th>0</th>\n",
       "      <th>1</th>\n",
       "      <th>2</th>\n",
       "      <th>3</th>\n",
       "      <th>4</th>\n",
       "      <th>5</th>\n",
       "      <th>6</th>\n",
       "      <th>7</th>\n",
       "      <th>8</th>\n",
       "      <th>9</th>\n",
       "      <th>...</th>\n",
       "      <th>290</th>\n",
       "      <th>291</th>\n",
       "      <th>292</th>\n",
       "      <th>293</th>\n",
       "      <th>294</th>\n",
       "      <th>295</th>\n",
       "      <th>296</th>\n",
       "      <th>297</th>\n",
       "      <th>298</th>\n",
       "      <th>299</th>\n",
       "    </tr>\n",
       "  </thead>\n",
       "  <tbody>\n",
       "    <tr>\n",
       "      <th>0</th>\n",
       "      <td>0.510404</td>\n",
       "      <td>-0.371637</td>\n",
       "      <td>-0.087650</td>\n",
       "      <td>-1.181582</td>\n",
       "      <td>0.808300</td>\n",
       "      <td>0.284771</td>\n",
       "      <td>-0.546974</td>\n",
       "      <td>0.237337</td>\n",
       "      <td>-0.614967</td>\n",
       "      <td>0.378761</td>\n",
       "      <td>...</td>\n",
       "      <td>0.953727</td>\n",
       "      <td>-0.320389</td>\n",
       "      <td>-0.297604</td>\n",
       "      <td>0.676478</td>\n",
       "      <td>-0.576937</td>\n",
       "      <td>0.046073</td>\n",
       "      <td>-0.779320</td>\n",
       "      <td>-0.267583</td>\n",
       "      <td>0.870950</td>\n",
       "      <td>-0.172394</td>\n",
       "    </tr>\n",
       "    <tr>\n",
       "      <th>1</th>\n",
       "      <td>0.403477</td>\n",
       "      <td>-0.910513</td>\n",
       "      <td>-0.976094</td>\n",
       "      <td>-1.003196</td>\n",
       "      <td>1.074816</td>\n",
       "      <td>0.936543</td>\n",
       "      <td>-0.005817</td>\n",
       "      <td>0.518956</td>\n",
       "      <td>1.071469</td>\n",
       "      <td>0.123120</td>\n",
       "      <td>...</td>\n",
       "      <td>-0.256613</td>\n",
       "      <td>-0.206250</td>\n",
       "      <td>-0.834772</td>\n",
       "      <td>0.508822</td>\n",
       "      <td>0.183094</td>\n",
       "      <td>-0.613571</td>\n",
       "      <td>-0.446144</td>\n",
       "      <td>0.033827</td>\n",
       "      <td>1.316615</td>\n",
       "      <td>-0.657072</td>\n",
       "    </tr>\n",
       "    <tr>\n",
       "      <th>2</th>\n",
       "      <td>0.168775</td>\n",
       "      <td>-0.061932</td>\n",
       "      <td>-1.445975</td>\n",
       "      <td>-1.939399</td>\n",
       "      <td>-0.301081</td>\n",
       "      <td>0.893585</td>\n",
       "      <td>-0.757300</td>\n",
       "      <td>-1.390678</td>\n",
       "      <td>-0.787404</td>\n",
       "      <td>1.206545</td>\n",
       "      <td>...</td>\n",
       "      <td>-1.028487</td>\n",
       "      <td>0.860131</td>\n",
       "      <td>-1.304725</td>\n",
       "      <td>1.274230</td>\n",
       "      <td>0.332891</td>\n",
       "      <td>0.856670</td>\n",
       "      <td>0.088465</td>\n",
       "      <td>1.988401</td>\n",
       "      <td>1.679559</td>\n",
       "      <td>-1.273024</td>\n",
       "    </tr>\n",
       "    <tr>\n",
       "      <th>3</th>\n",
       "      <td>0.049231</td>\n",
       "      <td>-1.329170</td>\n",
       "      <td>-1.064765</td>\n",
       "      <td>-2.113189</td>\n",
       "      <td>-0.241770</td>\n",
       "      <td>0.913811</td>\n",
       "      <td>0.301923</td>\n",
       "      <td>-0.744030</td>\n",
       "      <td>-1.425886</td>\n",
       "      <td>-0.000816</td>\n",
       "      <td>...</td>\n",
       "      <td>0.472606</td>\n",
       "      <td>0.826701</td>\n",
       "      <td>0.317132</td>\n",
       "      <td>-0.217095</td>\n",
       "      <td>-0.431721</td>\n",
       "      <td>-1.119653</td>\n",
       "      <td>-0.296391</td>\n",
       "      <td>1.227143</td>\n",
       "      <td>1.080529</td>\n",
       "      <td>-0.572188</td>\n",
       "    </tr>\n",
       "    <tr>\n",
       "      <th>4</th>\n",
       "      <td>-0.368783</td>\n",
       "      <td>-0.315182</td>\n",
       "      <td>-0.995509</td>\n",
       "      <td>-0.520499</td>\n",
       "      <td>-0.288078</td>\n",
       "      <td>0.916106</td>\n",
       "      <td>-0.650810</td>\n",
       "      <td>0.058484</td>\n",
       "      <td>1.074858</td>\n",
       "      <td>-0.007309</td>\n",
       "      <td>...</td>\n",
       "      <td>-0.477856</td>\n",
       "      <td>0.460579</td>\n",
       "      <td>-0.457197</td>\n",
       "      <td>-0.286810</td>\n",
       "      <td>0.722710</td>\n",
       "      <td>-0.422584</td>\n",
       "      <td>-0.558892</td>\n",
       "      <td>-0.581496</td>\n",
       "      <td>0.724672</td>\n",
       "      <td>-1.198699</td>\n",
       "    </tr>\n",
       "    <tr>\n",
       "      <th>...</th>\n",
       "      <td>...</td>\n",
       "      <td>...</td>\n",
       "      <td>...</td>\n",
       "      <td>...</td>\n",
       "      <td>...</td>\n",
       "      <td>...</td>\n",
       "      <td>...</td>\n",
       "      <td>...</td>\n",
       "      <td>...</td>\n",
       "      <td>...</td>\n",
       "      <td>...</td>\n",
       "      <td>...</td>\n",
       "      <td>...</td>\n",
       "      <td>...</td>\n",
       "      <td>...</td>\n",
       "      <td>...</td>\n",
       "      <td>...</td>\n",
       "      <td>...</td>\n",
       "      <td>...</td>\n",
       "      <td>...</td>\n",
       "      <td>...</td>\n",
       "    </tr>\n",
       "    <tr>\n",
       "      <th>5752</th>\n",
       "      <td>0.171561</td>\n",
       "      <td>-0.466605</td>\n",
       "      <td>0.354408</td>\n",
       "      <td>-0.434025</td>\n",
       "      <td>0.297871</td>\n",
       "      <td>-0.368645</td>\n",
       "      <td>-0.686873</td>\n",
       "      <td>0.402240</td>\n",
       "      <td>0.667732</td>\n",
       "      <td>-0.109470</td>\n",
       "      <td>...</td>\n",
       "      <td>-0.056211</td>\n",
       "      <td>-0.090652</td>\n",
       "      <td>0.910740</td>\n",
       "      <td>0.575158</td>\n",
       "      <td>-0.423393</td>\n",
       "      <td>0.227548</td>\n",
       "      <td>-1.188019</td>\n",
       "      <td>-0.630270</td>\n",
       "      <td>0.634020</td>\n",
       "      <td>-0.302923</td>\n",
       "    </tr>\n",
       "    <tr>\n",
       "      <th>5753</th>\n",
       "      <td>0.712983</td>\n",
       "      <td>0.747248</td>\n",
       "      <td>-0.466906</td>\n",
       "      <td>-1.627455</td>\n",
       "      <td>0.259094</td>\n",
       "      <td>0.522675</td>\n",
       "      <td>0.188684</td>\n",
       "      <td>-0.553735</td>\n",
       "      <td>-0.415958</td>\n",
       "      <td>-0.481739</td>\n",
       "      <td>...</td>\n",
       "      <td>0.746715</td>\n",
       "      <td>-0.184465</td>\n",
       "      <td>0.153195</td>\n",
       "      <td>0.594438</td>\n",
       "      <td>-0.173378</td>\n",
       "      <td>-0.654142</td>\n",
       "      <td>0.411020</td>\n",
       "      <td>0.404238</td>\n",
       "      <td>0.569542</td>\n",
       "      <td>-0.053117</td>\n",
       "    </tr>\n",
       "    <tr>\n",
       "      <th>5754</th>\n",
       "      <td>-2.270884</td>\n",
       "      <td>-0.715431</td>\n",
       "      <td>-0.434485</td>\n",
       "      <td>-2.560010</td>\n",
       "      <td>1.205226</td>\n",
       "      <td>1.337797</td>\n",
       "      <td>-1.840779</td>\n",
       "      <td>0.193274</td>\n",
       "      <td>0.444074</td>\n",
       "      <td>1.228262</td>\n",
       "      <td>...</td>\n",
       "      <td>1.738383</td>\n",
       "      <td>-0.699253</td>\n",
       "      <td>-1.025795</td>\n",
       "      <td>0.478820</td>\n",
       "      <td>-0.103984</td>\n",
       "      <td>1.388157</td>\n",
       "      <td>-0.396898</td>\n",
       "      <td>-0.211119</td>\n",
       "      <td>1.518825</td>\n",
       "      <td>-0.156186</td>\n",
       "    </tr>\n",
       "    <tr>\n",
       "      <th>5755</th>\n",
       "      <td>-0.254447</td>\n",
       "      <td>-0.294217</td>\n",
       "      <td>-0.444222</td>\n",
       "      <td>-0.605973</td>\n",
       "      <td>0.342095</td>\n",
       "      <td>0.492321</td>\n",
       "      <td>-0.107241</td>\n",
       "      <td>-1.476999</td>\n",
       "      <td>-0.134240</td>\n",
       "      <td>0.130027</td>\n",
       "      <td>...</td>\n",
       "      <td>0.384965</td>\n",
       "      <td>0.235537</td>\n",
       "      <td>-0.195102</td>\n",
       "      <td>1.464609</td>\n",
       "      <td>-0.087126</td>\n",
       "      <td>-0.686288</td>\n",
       "      <td>-0.254199</td>\n",
       "      <td>0.468867</td>\n",
       "      <td>1.209841</td>\n",
       "      <td>-0.114545</td>\n",
       "    </tr>\n",
       "    <tr>\n",
       "      <th>5756</th>\n",
       "      <td>-0.069537</td>\n",
       "      <td>-0.473252</td>\n",
       "      <td>-0.229041</td>\n",
       "      <td>-1.580307</td>\n",
       "      <td>0.868719</td>\n",
       "      <td>0.592759</td>\n",
       "      <td>0.093509</td>\n",
       "      <td>-0.105264</td>\n",
       "      <td>0.324486</td>\n",
       "      <td>-0.107782</td>\n",
       "      <td>...</td>\n",
       "      <td>0.402723</td>\n",
       "      <td>-0.386661</td>\n",
       "      <td>-0.268311</td>\n",
       "      <td>0.738533</td>\n",
       "      <td>0.026377</td>\n",
       "      <td>0.773142</td>\n",
       "      <td>-0.392570</td>\n",
       "      <td>-0.643045</td>\n",
       "      <td>0.830777</td>\n",
       "      <td>0.095703</td>\n",
       "    </tr>\n",
       "  </tbody>\n",
       "</table>\n",
       "<p>5757 rows × 300 columns</p>\n",
       "</div>"
      ],
      "text/plain": [
       "           0         1         2         3         4         5         6    \\\n",
       "0     0.510404 -0.371637 -0.087650 -1.181582  0.808300  0.284771 -0.546974   \n",
       "1     0.403477 -0.910513 -0.976094 -1.003196  1.074816  0.936543 -0.005817   \n",
       "2     0.168775 -0.061932 -1.445975 -1.939399 -0.301081  0.893585 -0.757300   \n",
       "3     0.049231 -1.329170 -1.064765 -2.113189 -0.241770  0.913811  0.301923   \n",
       "4    -0.368783 -0.315182 -0.995509 -0.520499 -0.288078  0.916106 -0.650810   \n",
       "...        ...       ...       ...       ...       ...       ...       ...   \n",
       "5752  0.171561 -0.466605  0.354408 -0.434025  0.297871 -0.368645 -0.686873   \n",
       "5753  0.712983  0.747248 -0.466906 -1.627455  0.259094  0.522675  0.188684   \n",
       "5754 -2.270884 -0.715431 -0.434485 -2.560010  1.205226  1.337797 -1.840779   \n",
       "5755 -0.254447 -0.294217 -0.444222 -0.605973  0.342095  0.492321 -0.107241   \n",
       "5756 -0.069537 -0.473252 -0.229041 -1.580307  0.868719  0.592759  0.093509   \n",
       "\n",
       "           7         8         9    ...       290       291       292  \\\n",
       "0     0.237337 -0.614967  0.378761  ...  0.953727 -0.320389 -0.297604   \n",
       "1     0.518956  1.071469  0.123120  ... -0.256613 -0.206250 -0.834772   \n",
       "2    -1.390678 -0.787404  1.206545  ... -1.028487  0.860131 -1.304725   \n",
       "3    -0.744030 -1.425886 -0.000816  ...  0.472606  0.826701  0.317132   \n",
       "4     0.058484  1.074858 -0.007309  ... -0.477856  0.460579 -0.457197   \n",
       "...        ...       ...       ...  ...       ...       ...       ...   \n",
       "5752  0.402240  0.667732 -0.109470  ... -0.056211 -0.090652  0.910740   \n",
       "5753 -0.553735 -0.415958 -0.481739  ...  0.746715 -0.184465  0.153195   \n",
       "5754  0.193274  0.444074  1.228262  ...  1.738383 -0.699253 -1.025795   \n",
       "5755 -1.476999 -0.134240  0.130027  ...  0.384965  0.235537 -0.195102   \n",
       "5756 -0.105264  0.324486 -0.107782  ...  0.402723 -0.386661 -0.268311   \n",
       "\n",
       "           293       294       295       296       297       298       299  \n",
       "0     0.676478 -0.576937  0.046073 -0.779320 -0.267583  0.870950 -0.172394  \n",
       "1     0.508822  0.183094 -0.613571 -0.446144  0.033827  1.316615 -0.657072  \n",
       "2     1.274230  0.332891  0.856670  0.088465  1.988401  1.679559 -1.273024  \n",
       "3    -0.217095 -0.431721 -1.119653 -0.296391  1.227143  1.080529 -0.572188  \n",
       "4    -0.286810  0.722710 -0.422584 -0.558892 -0.581496  0.724672 -1.198699  \n",
       "...        ...       ...       ...       ...       ...       ...       ...  \n",
       "5752  0.575158 -0.423393  0.227548 -1.188019 -0.630270  0.634020 -0.302923  \n",
       "5753  0.594438 -0.173378 -0.654142  0.411020  0.404238  0.569542 -0.053117  \n",
       "5754  0.478820 -0.103984  1.388157 -0.396898 -0.211119  1.518825 -0.156186  \n",
       "5755  1.464609 -0.087126 -0.686288 -0.254199  0.468867  1.209841 -0.114545  \n",
       "5756  0.738533  0.026377  0.773142 -0.392570 -0.643045  0.830777  0.095703  \n",
       "\n",
       "[5757 rows x 300 columns]"
      ]
     },
     "execution_count": 639,
     "metadata": {},
     "output_type": "execute_result"
    }
   ],
   "source": [
    "X"
   ]
  },
  {
   "cell_type": "markdown",
   "id": "86d60ed3",
   "metadata": {},
   "source": [
    "#### Делим выборку на train и test. Пусть тестовые данные содержат 20% исходной обучающий выборки"
   ]
  },
  {
   "cell_type": "code",
   "execution_count": 640,
   "id": "ca42f974",
   "metadata": {},
   "outputs": [],
   "source": [
    "X_train, X_test, y_train, y_test = train_test_split(X, y, test_size=0.2, random_state=17)"
   ]
  },
  {
   "cell_type": "markdown",
   "id": "29abe944",
   "metadata": {},
   "source": [
    "## Model training"
   ]
  },
  {
   "cell_type": "markdown",
   "id": "a6b7b7fe",
   "metadata": {},
   "source": [
    "### Логистическая регрессия"
   ]
  },
  {
   "cell_type": "code",
   "execution_count": 641,
   "id": "d9ff614f",
   "metadata": {},
   "outputs": [],
   "source": [
    "lr = LogisticRegressionCV(cv = 3)"
   ]
  },
  {
   "cell_type": "code",
   "execution_count": 642,
   "id": "d4a05851",
   "metadata": {},
   "outputs": [
    {
     "data": {
      "text/plain": [
       "LogisticRegressionCV(cv=3)"
      ]
     },
     "execution_count": 642,
     "metadata": {},
     "output_type": "execute_result"
    }
   ],
   "source": [
    "lr.fit(X_train, y_train)"
   ]
  },
  {
   "cell_type": "code",
   "execution_count": 643,
   "id": "9bed028a",
   "metadata": {},
   "outputs": [],
   "source": [
    "y_pred = lr.predict(X_test)"
   ]
  },
  {
   "cell_type": "code",
   "execution_count": 644,
   "id": "c56de8c8-f944-4d61-bc4f-53e460007ce7",
   "metadata": {},
   "outputs": [
    {
     "data": {
      "text/plain": [
       "0.8517520215633423"
      ]
     },
     "execution_count": 644,
     "metadata": {},
     "output_type": "execute_result"
    }
   ],
   "source": [
    "f1_score(y_pred, y_test)"
   ]
  },
  {
   "cell_type": "markdown",
   "id": "12916b00",
   "metadata": {},
   "source": [
    "#### Если дать тестовым данным 5 процентов, то метрика f1_score равна 88.6 процетнам. Если же тествым дать 10 процентов, то метрика f1_score равна 85.6 процентам"
   ]
  },
  {
   "cell_type": "markdown",
   "id": "5bb00b90-1f0e-427e-b9aa-8f0f3a320d52",
   "metadata": {},
   "source": [
    "#### Теперь обучим модель с такими же параметрами на всех данных"
   ]
  },
  {
   "cell_type": "code",
   "execution_count": 645,
   "id": "cbc603f7-0acb-4d8f-8cb2-a3a0f8d0118d",
   "metadata": {},
   "outputs": [],
   "source": [
    "lr = LogisticRegressionCV(cv = 3)"
   ]
  },
  {
   "cell_type": "code",
   "execution_count": 646,
   "id": "ec93231f-e7c9-4ef1-91e9-791cd5f16f88",
   "metadata": {},
   "outputs": [
    {
     "data": {
      "text/plain": [
       "LogisticRegressionCV(cv=3)"
      ]
     },
     "execution_count": 646,
     "metadata": {},
     "output_type": "execute_result"
    }
   ],
   "source": [
    "lr.fit(X, y)"
   ]
  },
  {
   "cell_type": "markdown",
   "id": "c678cd5a",
   "metadata": {},
   "source": [
    "### Демонстрация работы на тестовых данных"
   ]
  },
  {
   "cell_type": "code",
   "execution_count": 647,
   "id": "bf24eed7",
   "metadata": {},
   "outputs": [],
   "source": [
    "test = pd.read_csv(\"test.tsv\", sep = \"\\t\")"
   ]
  },
  {
   "cell_type": "code",
   "execution_count": 648,
   "id": "faae6641",
   "metadata": {},
   "outputs": [
    {
     "data": {
      "text/html": [
       "<div>\n",
       "<style scoped>\n",
       "    .dataframe tbody tr th:only-of-type {\n",
       "        vertical-align: middle;\n",
       "    }\n",
       "\n",
       "    .dataframe tbody tr th {\n",
       "        vertical-align: top;\n",
       "    }\n",
       "\n",
       "    .dataframe thead th {\n",
       "        text-align: right;\n",
       "    }\n",
       "</style>\n",
       "<table border=\"1\" class=\"dataframe\">\n",
       "  <thead>\n",
       "    <tr style=\"text-align: right;\">\n",
       "      <th></th>\n",
       "      <th>title</th>\n",
       "      <th>is_fake</th>\n",
       "    </tr>\n",
       "  </thead>\n",
       "  <tbody>\n",
       "    <tr>\n",
       "      <th>0</th>\n",
       "      <td>Роскомнадзор представил реестр сочетаний цвето...</td>\n",
       "      <td>0</td>\n",
       "    </tr>\n",
       "    <tr>\n",
       "      <th>1</th>\n",
       "      <td>Ночью под Минском на президентской горе Белара...</td>\n",
       "      <td>0</td>\n",
       "    </tr>\n",
       "    <tr>\n",
       "      <th>2</th>\n",
       "      <td>Бывший спичрайтер Юрия Лозы рассказал о трудно...</td>\n",
       "      <td>0</td>\n",
       "    </tr>\n",
       "    <tr>\n",
       "      <th>3</th>\n",
       "      <td>Сельская церковь, собравшая рекордно низкое ко...</td>\n",
       "      <td>0</td>\n",
       "    </tr>\n",
       "    <tr>\n",
       "      <th>4</th>\n",
       "      <td>Акции Google рухнули после объявления о переза...</td>\n",
       "      <td>0</td>\n",
       "    </tr>\n",
       "    <tr>\n",
       "      <th>...</th>\n",
       "      <td>...</td>\n",
       "      <td>...</td>\n",
       "    </tr>\n",
       "    <tr>\n",
       "      <th>995</th>\n",
       "      <td>Прокуратура заподозрила Явлинского в авторитар...</td>\n",
       "      <td>0</td>\n",
       "    </tr>\n",
       "    <tr>\n",
       "      <th>996</th>\n",
       "      <td>В День Победы стратегические ракетоносцы Ту-16...</td>\n",
       "      <td>0</td>\n",
       "    </tr>\n",
       "    <tr>\n",
       "      <th>997</th>\n",
       "      <td>СК возбудил дело против авиакомпании «Победа» ...</td>\n",
       "      <td>0</td>\n",
       "    </tr>\n",
       "    <tr>\n",
       "      <th>998</th>\n",
       "      <td>Криптомонетный двор Туркменистана выпустил юби...</td>\n",
       "      <td>0</td>\n",
       "    </tr>\n",
       "    <tr>\n",
       "      <th>999</th>\n",
       "      <td>Deutsche Bahn заплатит рекордный штраф за чтен...</td>\n",
       "      <td>0</td>\n",
       "    </tr>\n",
       "  </tbody>\n",
       "</table>\n",
       "<p>1000 rows × 2 columns</p>\n",
       "</div>"
      ],
      "text/plain": [
       "                                                 title  is_fake\n",
       "0    Роскомнадзор представил реестр сочетаний цвето...        0\n",
       "1    Ночью под Минском на президентской горе Белара...        0\n",
       "2    Бывший спичрайтер Юрия Лозы рассказал о трудно...        0\n",
       "3    Сельская церковь, собравшая рекордно низкое ко...        0\n",
       "4    Акции Google рухнули после объявления о переза...        0\n",
       "..                                                 ...      ...\n",
       "995  Прокуратура заподозрила Явлинского в авторитар...        0\n",
       "996  В День Победы стратегические ракетоносцы Ту-16...        0\n",
       "997  СК возбудил дело против авиакомпании «Победа» ...        0\n",
       "998  Криптомонетный двор Туркменистана выпустил юби...        0\n",
       "999  Deutsche Bahn заплатит рекордный штраф за чтен...        0\n",
       "\n",
       "[1000 rows x 2 columns]"
      ]
     },
     "execution_count": 648,
     "metadata": {},
     "output_type": "execute_result"
    }
   ],
   "source": [
    "test"
   ]
  },
  {
   "cell_type": "markdown",
   "id": "6f1cd522",
   "metadata": {},
   "source": [
    "#### Также тестовые данные меняем с помощью Word2vec, получаем valid размерности (1000, 300)"
   ]
  },
  {
   "cell_type": "code",
   "execution_count": 649,
   "id": "f6cb586c-5b2b-479b-9b2d-7bba8e8bc0db",
   "metadata": {},
   "outputs": [],
   "source": [
    "test.title = test.title.apply(preprocess)"
   ]
  },
  {
   "cell_type": "code",
   "execution_count": 650,
   "id": "b359f97e-4885-4ae5-96d6-ee00ab1ca74c",
   "metadata": {},
   "outputs": [
    {
     "data": {
      "text/html": [
       "<div>\n",
       "<style scoped>\n",
       "    .dataframe tbody tr th:only-of-type {\n",
       "        vertical-align: middle;\n",
       "    }\n",
       "\n",
       "    .dataframe tbody tr th {\n",
       "        vertical-align: top;\n",
       "    }\n",
       "\n",
       "    .dataframe thead th {\n",
       "        text-align: right;\n",
       "    }\n",
       "</style>\n",
       "<table border=\"1\" class=\"dataframe\">\n",
       "  <thead>\n",
       "    <tr style=\"text-align: right;\">\n",
       "      <th></th>\n",
       "      <th>title</th>\n",
       "      <th>is_fake</th>\n",
       "    </tr>\n",
       "  </thead>\n",
       "  <tbody>\n",
       "    <tr>\n",
       "      <th>0</th>\n",
       "      <td>роскомнадзор представить реестр сочетание цвет...</td>\n",
       "      <td>0</td>\n",
       "    </tr>\n",
       "    <tr>\n",
       "      <th>1</th>\n",
       "      <td>ночью под минский на президентский гора белара...</td>\n",
       "      <td>0</td>\n",
       "    </tr>\n",
       "    <tr>\n",
       "      <th>2</th>\n",
       "      <td>бывший спичрайтер юрий лоза рассказать о трудн...</td>\n",
       "      <td>0</td>\n",
       "    </tr>\n",
       "    <tr>\n",
       "      <th>3</th>\n",
       "      <td>сельский церковь, собрать рекордно низкий коли...</td>\n",
       "      <td>0</td>\n",
       "    </tr>\n",
       "    <tr>\n",
       "      <th>4</th>\n",
       "      <td>акция google рухнуть после объявление о переза...</td>\n",
       "      <td>0</td>\n",
       "    </tr>\n",
       "    <tr>\n",
       "      <th>...</th>\n",
       "      <td>...</td>\n",
       "      <td>...</td>\n",
       "    </tr>\n",
       "    <tr>\n",
       "      <th>995</th>\n",
       "      <td>прокуратура заподозрить явлинский в авторитарн...</td>\n",
       "      <td>0</td>\n",
       "    </tr>\n",
       "    <tr>\n",
       "      <th>996</th>\n",
       "      <td>в день победа стратегический ракетоносец ту-16...</td>\n",
       "      <td>0</td>\n",
       "    </tr>\n",
       "    <tr>\n",
       "      <th>997</th>\n",
       "      <td>ск возбудить дело против авиакомпания «победа»...</td>\n",
       "      <td>0</td>\n",
       "    </tr>\n",
       "    <tr>\n",
       "      <th>998</th>\n",
       "      <td>криптомонетный двор туркменистан выпустить юби...</td>\n",
       "      <td>0</td>\n",
       "    </tr>\n",
       "    <tr>\n",
       "      <th>999</th>\n",
       "      <td>deutsche bahn заплатить рекордный штраф за чте...</td>\n",
       "      <td>0</td>\n",
       "    </tr>\n",
       "  </tbody>\n",
       "</table>\n",
       "<p>1000 rows × 2 columns</p>\n",
       "</div>"
      ],
      "text/plain": [
       "                                                 title  is_fake\n",
       "0    роскомнадзор представить реестр сочетание цвет...        0\n",
       "1    ночью под минский на президентский гора белара...        0\n",
       "2    бывший спичрайтер юрий лоза рассказать о трудн...        0\n",
       "3    сельский церковь, собрать рекордно низкий коли...        0\n",
       "4    акция google рухнуть после объявление о переза...        0\n",
       "..                                                 ...      ...\n",
       "995  прокуратура заподозрить явлинский в авторитарн...        0\n",
       "996  в день победа стратегический ракетоносец ту-16...        0\n",
       "997  ск возбудить дело против авиакомпания «победа»...        0\n",
       "998  криптомонетный двор туркменистан выпустить юби...        0\n",
       "999  deutsche bahn заплатить рекордный штраф за чте...        0\n",
       "\n",
       "[1000 rows x 2 columns]"
      ]
     },
     "execution_count": 650,
     "metadata": {},
     "output_type": "execute_result"
    }
   ],
   "source": [
    "test"
   ]
  },
  {
   "cell_type": "code",
   "execution_count": 651,
   "id": "ed8cfe67-a1a6-4619-a98f-034d7be1dc44",
   "metadata": {},
   "outputs": [],
   "source": [
    "texts = test.title.tolist()"
   ]
  },
  {
   "cell_type": "code",
   "execution_count": 652,
   "id": "5eb35aa3-eaa4-4f06-b4e5-72bbadc32d07",
   "metadata": {},
   "outputs": [],
   "source": [
    "line = 0\n",
    "for line in range(len(texts)):\n",
    "    for i in punct:\n",
    "        if i in texts[line]:   \n",
    "            texts[line] = texts[line].replace(i, \"\")"
   ]
  },
  {
   "cell_type": "code",
   "execution_count": 653,
   "id": "e01e02a9-dabc-40dc-b4ae-43fedff4ee80",
   "metadata": {},
   "outputs": [
    {
     "name": "stderr",
     "output_type": "stream",
     "text": [
      "100%|█████████████████████████████████████████████████████████████████████████████████████████████████| 1000/1000 [00:00<00:00, 1001.80it/s]\n"
     ]
    }
   ],
   "source": [
    "vecs = []\n",
    "errors = []\n",
    "for line in tqdm(texts):\n",
    "    vec = 0\n",
    "    for word in line.split():\n",
    "        try:\n",
    "            word_tagged = tag(word)\n",
    "        except:\n",
    "            continue\n",
    "        if word_tagged in word2vec:\n",
    "            vec += word2vec[word_tagged]\n",
    "    vecs.append(vec)"
   ]
  },
  {
   "cell_type": "code",
   "execution_count": 654,
   "id": "fac2b71b-609c-4a49-a019-d1eda4060ec4",
   "metadata": {},
   "outputs": [
    {
     "data": {
      "text/plain": [
       "1000"
      ]
     },
     "execution_count": 654,
     "metadata": {},
     "output_type": "execute_result"
    }
   ],
   "source": [
    "len(vecs)"
   ]
  },
  {
   "cell_type": "code",
   "execution_count": 655,
   "id": "97cf66b3-f981-4ca1-b549-acdab5a94dce",
   "metadata": {},
   "outputs": [
    {
     "data": {
      "text/html": [
       "<div>\n",
       "<style scoped>\n",
       "    .dataframe tbody tr th:only-of-type {\n",
       "        vertical-align: middle;\n",
       "    }\n",
       "\n",
       "    .dataframe tbody tr th {\n",
       "        vertical-align: top;\n",
       "    }\n",
       "\n",
       "    .dataframe thead th {\n",
       "        text-align: right;\n",
       "    }\n",
       "</style>\n",
       "<table border=\"1\" class=\"dataframe\">\n",
       "  <thead>\n",
       "    <tr style=\"text-align: right;\">\n",
       "      <th></th>\n",
       "      <th>0</th>\n",
       "      <th>1</th>\n",
       "      <th>2</th>\n",
       "      <th>3</th>\n",
       "      <th>4</th>\n",
       "      <th>5</th>\n",
       "      <th>6</th>\n",
       "      <th>7</th>\n",
       "      <th>8</th>\n",
       "      <th>9</th>\n",
       "      <th>...</th>\n",
       "      <th>290</th>\n",
       "      <th>291</th>\n",
       "      <th>292</th>\n",
       "      <th>293</th>\n",
       "      <th>294</th>\n",
       "      <th>295</th>\n",
       "      <th>296</th>\n",
       "      <th>297</th>\n",
       "      <th>298</th>\n",
       "      <th>299</th>\n",
       "    </tr>\n",
       "  </thead>\n",
       "  <tbody>\n",
       "    <tr>\n",
       "      <th>0</th>\n",
       "      <td>0.399243</td>\n",
       "      <td>0.346453</td>\n",
       "      <td>-0.241550</td>\n",
       "      <td>-1.610480</td>\n",
       "      <td>0.930938</td>\n",
       "      <td>0.315715</td>\n",
       "      <td>-0.292521</td>\n",
       "      <td>0.221916</td>\n",
       "      <td>-0.871547</td>\n",
       "      <td>-0.420912</td>\n",
       "      <td>...</td>\n",
       "      <td>-0.050024</td>\n",
       "      <td>-0.173573</td>\n",
       "      <td>0.616107</td>\n",
       "      <td>1.095573</td>\n",
       "      <td>-0.355622</td>\n",
       "      <td>-0.285410</td>\n",
       "      <td>-0.607233</td>\n",
       "      <td>-0.980589</td>\n",
       "      <td>1.691957</td>\n",
       "      <td>0.000119</td>\n",
       "    </tr>\n",
       "    <tr>\n",
       "      <th>1</th>\n",
       "      <td>-0.252480</td>\n",
       "      <td>-0.144776</td>\n",
       "      <td>0.015977</td>\n",
       "      <td>-0.933832</td>\n",
       "      <td>0.028789</td>\n",
       "      <td>1.634717</td>\n",
       "      <td>-0.123156</td>\n",
       "      <td>0.780652</td>\n",
       "      <td>0.716374</td>\n",
       "      <td>-0.455380</td>\n",
       "      <td>...</td>\n",
       "      <td>1.280913</td>\n",
       "      <td>-0.328480</td>\n",
       "      <td>-0.421936</td>\n",
       "      <td>-0.488846</td>\n",
       "      <td>0.082575</td>\n",
       "      <td>-0.778517</td>\n",
       "      <td>-0.448440</td>\n",
       "      <td>0.439076</td>\n",
       "      <td>2.287841</td>\n",
       "      <td>0.671776</td>\n",
       "    </tr>\n",
       "    <tr>\n",
       "      <th>2</th>\n",
       "      <td>-0.975781</td>\n",
       "      <td>-0.434427</td>\n",
       "      <td>-1.701489</td>\n",
       "      <td>-1.388748</td>\n",
       "      <td>-0.248310</td>\n",
       "      <td>0.791215</td>\n",
       "      <td>-0.399773</td>\n",
       "      <td>0.623801</td>\n",
       "      <td>1.398039</td>\n",
       "      <td>-0.009429</td>\n",
       "      <td>...</td>\n",
       "      <td>1.301376</td>\n",
       "      <td>0.485133</td>\n",
       "      <td>-0.422953</td>\n",
       "      <td>0.946021</td>\n",
       "      <td>-0.660889</td>\n",
       "      <td>1.506385</td>\n",
       "      <td>0.592294</td>\n",
       "      <td>-0.597175</td>\n",
       "      <td>2.133172</td>\n",
       "      <td>-0.379675</td>\n",
       "    </tr>\n",
       "    <tr>\n",
       "      <th>3</th>\n",
       "      <td>0.449240</td>\n",
       "      <td>0.149839</td>\n",
       "      <td>0.253881</td>\n",
       "      <td>-2.487186</td>\n",
       "      <td>1.743972</td>\n",
       "      <td>-0.128937</td>\n",
       "      <td>-0.673326</td>\n",
       "      <td>-0.279032</td>\n",
       "      <td>-0.557040</td>\n",
       "      <td>-0.688142</td>\n",
       "      <td>...</td>\n",
       "      <td>2.003700</td>\n",
       "      <td>0.755393</td>\n",
       "      <td>0.446432</td>\n",
       "      <td>1.226905</td>\n",
       "      <td>0.351283</td>\n",
       "      <td>-1.986991</td>\n",
       "      <td>-1.105770</td>\n",
       "      <td>0.686792</td>\n",
       "      <td>0.962600</td>\n",
       "      <td>0.586750</td>\n",
       "    </tr>\n",
       "    <tr>\n",
       "      <th>4</th>\n",
       "      <td>1.114974</td>\n",
       "      <td>-0.384749</td>\n",
       "      <td>-0.033885</td>\n",
       "      <td>-0.101726</td>\n",
       "      <td>-0.068298</td>\n",
       "      <td>0.082171</td>\n",
       "      <td>0.152364</td>\n",
       "      <td>-0.478397</td>\n",
       "      <td>-0.147899</td>\n",
       "      <td>0.459366</td>\n",
       "      <td>...</td>\n",
       "      <td>1.091010</td>\n",
       "      <td>-0.312723</td>\n",
       "      <td>-0.597915</td>\n",
       "      <td>-0.199008</td>\n",
       "      <td>0.008621</td>\n",
       "      <td>-0.017089</td>\n",
       "      <td>-1.149785</td>\n",
       "      <td>0.037035</td>\n",
       "      <td>1.027470</td>\n",
       "      <td>-0.314021</td>\n",
       "    </tr>\n",
       "  </tbody>\n",
       "</table>\n",
       "<p>5 rows × 300 columns</p>\n",
       "</div>"
      ],
      "text/plain": [
       "        0         1         2         3         4         5         6    \\\n",
       "0  0.399243  0.346453 -0.241550 -1.610480  0.930938  0.315715 -0.292521   \n",
       "1 -0.252480 -0.144776  0.015977 -0.933832  0.028789  1.634717 -0.123156   \n",
       "2 -0.975781 -0.434427 -1.701489 -1.388748 -0.248310  0.791215 -0.399773   \n",
       "3  0.449240  0.149839  0.253881 -2.487186  1.743972 -0.128937 -0.673326   \n",
       "4  1.114974 -0.384749 -0.033885 -0.101726 -0.068298  0.082171  0.152364   \n",
       "\n",
       "        7         8         9    ...       290       291       292       293  \\\n",
       "0  0.221916 -0.871547 -0.420912  ... -0.050024 -0.173573  0.616107  1.095573   \n",
       "1  0.780652  0.716374 -0.455380  ...  1.280913 -0.328480 -0.421936 -0.488846   \n",
       "2  0.623801  1.398039 -0.009429  ...  1.301376  0.485133 -0.422953  0.946021   \n",
       "3 -0.279032 -0.557040 -0.688142  ...  2.003700  0.755393  0.446432  1.226905   \n",
       "4 -0.478397 -0.147899  0.459366  ...  1.091010 -0.312723 -0.597915 -0.199008   \n",
       "\n",
       "        294       295       296       297       298       299  \n",
       "0 -0.355622 -0.285410 -0.607233 -0.980589  1.691957  0.000119  \n",
       "1  0.082575 -0.778517 -0.448440  0.439076  2.287841  0.671776  \n",
       "2 -0.660889  1.506385  0.592294 -0.597175  2.133172 -0.379675  \n",
       "3  0.351283 -1.986991 -1.105770  0.686792  0.962600  0.586750  \n",
       "4  0.008621 -0.017089 -1.149785  0.037035  1.027470 -0.314021  \n",
       "\n",
       "[5 rows x 300 columns]"
      ]
     },
     "execution_count": 655,
     "metadata": {},
     "output_type": "execute_result"
    }
   ],
   "source": [
    "valid = pd.DataFrame(vecs)\n",
    "valid.head()"
   ]
  },
  {
   "cell_type": "markdown",
   "id": "724678f6",
   "metadata": {},
   "source": [
    "#### Строим прогноз на валидационных данных"
   ]
  },
  {
   "cell_type": "code",
   "execution_count": 656,
   "id": "74df4d31",
   "metadata": {},
   "outputs": [],
   "source": [
    "valid_pred = lr.predict(valid)\n",
    "test.is_fake = valid_pred"
   ]
  },
  {
   "cell_type": "code",
   "execution_count": 657,
   "id": "b77b3de1",
   "metadata": {},
   "outputs": [],
   "source": [
    "test.to_csv('prediction.tsv', index = False)"
   ]
  },
  {
   "cell_type": "code",
   "execution_count": 658,
   "id": "4799c8bd",
   "metadata": {},
   "outputs": [],
   "source": [
    "prediction = pd.read_csv(\"prediction.tsv\")"
   ]
  },
  {
   "cell_type": "markdown",
   "id": "5826ca6d",
   "metadata": {},
   "source": [
    "#### А вот предикшн на валидационных данных"
   ]
  },
  {
   "cell_type": "code",
   "execution_count": 659,
   "id": "1219a581",
   "metadata": {},
   "outputs": [
    {
     "data": {
      "text/html": [
       "<div>\n",
       "<style scoped>\n",
       "    .dataframe tbody tr th:only-of-type {\n",
       "        vertical-align: middle;\n",
       "    }\n",
       "\n",
       "    .dataframe tbody tr th {\n",
       "        vertical-align: top;\n",
       "    }\n",
       "\n",
       "    .dataframe thead th {\n",
       "        text-align: right;\n",
       "    }\n",
       "</style>\n",
       "<table border=\"1\" class=\"dataframe\">\n",
       "  <thead>\n",
       "    <tr style=\"text-align: right;\">\n",
       "      <th></th>\n",
       "      <th>title</th>\n",
       "      <th>is_fake</th>\n",
       "    </tr>\n",
       "  </thead>\n",
       "  <tbody>\n",
       "    <tr>\n",
       "      <th>0</th>\n",
       "      <td>роскомнадзор представить реестр сочетание цвет...</td>\n",
       "      <td>1</td>\n",
       "    </tr>\n",
       "    <tr>\n",
       "      <th>1</th>\n",
       "      <td>ночью под минский на президентский гора белара...</td>\n",
       "      <td>1</td>\n",
       "    </tr>\n",
       "    <tr>\n",
       "      <th>2</th>\n",
       "      <td>бывший спичрайтер юрий лоза рассказать о трудн...</td>\n",
       "      <td>1</td>\n",
       "    </tr>\n",
       "    <tr>\n",
       "      <th>3</th>\n",
       "      <td>сельский церковь, собрать рекордно низкий коли...</td>\n",
       "      <td>1</td>\n",
       "    </tr>\n",
       "    <tr>\n",
       "      <th>4</th>\n",
       "      <td>акция google рухнуть после объявление о переза...</td>\n",
       "      <td>0</td>\n",
       "    </tr>\n",
       "    <tr>\n",
       "      <th>...</th>\n",
       "      <td>...</td>\n",
       "      <td>...</td>\n",
       "    </tr>\n",
       "    <tr>\n",
       "      <th>995</th>\n",
       "      <td>прокуратура заподозрить явлинский в авторитарн...</td>\n",
       "      <td>1</td>\n",
       "    </tr>\n",
       "    <tr>\n",
       "      <th>996</th>\n",
       "      <td>в день победа стратегический ракетоносец ту-16...</td>\n",
       "      <td>1</td>\n",
       "    </tr>\n",
       "    <tr>\n",
       "      <th>997</th>\n",
       "      <td>ск возбудить дело против авиакомпания «победа»...</td>\n",
       "      <td>0</td>\n",
       "    </tr>\n",
       "    <tr>\n",
       "      <th>998</th>\n",
       "      <td>криптомонетный двор туркменистан выпустить юби...</td>\n",
       "      <td>0</td>\n",
       "    </tr>\n",
       "    <tr>\n",
       "      <th>999</th>\n",
       "      <td>deutsche bahn заплатить рекордный штраф за чте...</td>\n",
       "      <td>0</td>\n",
       "    </tr>\n",
       "  </tbody>\n",
       "</table>\n",
       "<p>1000 rows × 2 columns</p>\n",
       "</div>"
      ],
      "text/plain": [
       "                                                 title  is_fake\n",
       "0    роскомнадзор представить реестр сочетание цвет...        1\n",
       "1    ночью под минский на президентский гора белара...        1\n",
       "2    бывший спичрайтер юрий лоза рассказать о трудн...        1\n",
       "3    сельский церковь, собрать рекордно низкий коли...        1\n",
       "4    акция google рухнуть после объявление о переза...        0\n",
       "..                                                 ...      ...\n",
       "995  прокуратура заподозрить явлинский в авторитарн...        1\n",
       "996  в день победа стратегический ракетоносец ту-16...        1\n",
       "997  ск возбудить дело против авиакомпания «победа»...        0\n",
       "998  криптомонетный двор туркменистан выпустить юби...        0\n",
       "999  deutsche bahn заплатить рекордный штраф за чте...        0\n",
       "\n",
       "[1000 rows x 2 columns]"
      ]
     },
     "execution_count": 659,
     "metadata": {},
     "output_type": "execute_result"
    }
   ],
   "source": [
    "prediction"
   ]
  },
  {
   "cell_type": "code",
   "execution_count": null,
   "id": "9c36ec27-0ea3-4e7c-b9c1-28cebdeb8849",
   "metadata": {},
   "outputs": [],
   "source": []
  }
 ],
 "metadata": {
  "kernelspec": {
   "display_name": "Python 3 (ipykernel)",
   "language": "python",
   "name": "python3"
  },
  "language_info": {
   "codemirror_mode": {
    "name": "ipython",
    "version": 3
   },
   "file_extension": ".py",
   "mimetype": "text/x-python",
   "name": "python",
   "nbconvert_exporter": "python",
   "pygments_lexer": "ipython3",
   "version": "3.9.7"
  }
 },
 "nbformat": 4,
 "nbformat_minor": 5
}
